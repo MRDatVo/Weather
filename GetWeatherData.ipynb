{
 "cells": [
  {
   "cell_type": "code",
   "execution_count": 1,
   "metadata": {},
   "outputs": [],
   "source": [
    "import requests\n",
    "from bs4 import BeautifulSoup\n",
    "import json"
   ]
  },
  {
   "cell_type": "code",
   "execution_count": 2,
   "metadata": {},
   "outputs": [],
   "source": [
    "file_keys = open('keys.txt', 'r')\n",
    "keys = [line[:-1] for line in file_keys]\n",
    "file_keys.close()"
   ]
  },
  {
   "cell_type": "code",
   "execution_count": 3,
   "metadata": {},
   "outputs": [],
   "source": [
    "col = ['time', 'summary', 'sunriseTime', 'sunsetTime', 'moonPhase', 'precipType', 'temperatureHigh', 'temperatureHighTime', 'temperatureLow', 'temperatureLowTime', 'apparentTemperatureHigh', 'apparentTemperatureHighTime', 'apparentTemperatureLow', 'apparentTemperatureLowTime', 'dewPoint', 'humidity', 'pressure', 'windSpeed', 'windBearing', 'windGust', 'windGustTime', 'cloudCover', 'uvIndex', 'uvIndexTime', 'visibility', 'temperatureMin', 'temperatureMinTime', 'temperatureMax', 'temperatureMaxTime', 'apparentTemperatureMin', 'apparentTemperatureMinTime', 'apparentTemperatureMax', 'apparentTemperatureMaxTime']"
   ]
  },
  {
   "cell_type": "code",
   "execution_count": 4,
   "metadata": {},
   "outputs": [],
   "source": [
    "#key = '07a44f54a47e093817bd70285349aac6'\n",
    "hurl = 'https://api.darksky.net/forecast/'\n",
    "latitude  = '10.845'\n",
    "longitude  = '106.645'\n",
    "start = 883630800 #1998/1/1 5:00:00 AM UTC\n",
    "end = 1514696400 #2017/12/31 5:00:00 AM UTC\n",
    "query = '?exclude=currently,hourly,minutely,alerts,flags&units=ca'\n",
    "secondsPerDate = 24*3600\n",
    "NUMAPICALLS = 'X-Forecast-API-Calls'"
   ]
  },
  {
   "cell_type": "code",
   "execution_count": 5,
   "metadata": {},
   "outputs": [],
   "source": [
    "f = open('weather_data.csv', 'w')\n",
    "for item in col[:-1]:\n",
    "    f.write(item+',')\n",
    "f.write(col[-1]+'\\n')\n",
    "\n",
    "err = open('error_data.txt', 'w')"
   ]
  },
  {
   "cell_type": "code",
   "execution_count": 6,
   "metadata": {},
   "outputs": [],
   "source": [
    "idx = 0\n",
    "\n",
    "while start <= end:\n",
    "    right = True\n",
    "    #request weather data by day\n",
    "    url = hurl + keys[idx] + '/' + latitude + ',' + longitude + ',' + str(start) + query\n",
    "    r = requests.get(url)\n",
    "    try:\n",
    "        data = json.loads(r.text)\n",
    "    except Exception as e:\n",
    "        err.write(str(start)+'\\n')\n",
    "        right = False        \n",
    "    \n",
    "    #write data\n",
    "    if right:\n",
    "        for key in col[:-1]:            \n",
    "            f.write(str(data['daily']['data'][0].get(key, '')).replace(',', '|')+',')\n",
    "        f.write(str(data['daily']['data'][0].get(col[-1], '')).replace(',', '|')+'\\n')\n",
    "    \n",
    "    #increase day\n",
    "    start += secondsPerDate\n",
    "    \n",
    "    #maximum of request each key per day is 1000\n",
    "    flag = False\n",
    "    try:\n",
    "        flag = int(r.headers[NUMAPICALLS]) >= 1000            \n",
    "    except Exception as e:\n",
    "        idx += 1\n",
    "        start -= secondsPerDate\n",
    "        \n",
    "    if flag:\n",
    "        idx += 1\n",
    "        #out of key\n",
    "        if idx >= len(keys):\n",
    "            break\n",
    "    \n",
    "f.close()\n",
    "err.close()"
   ]
  }
 ],
 "metadata": {
  "kernelspec": {
   "display_name": "Python 3",
   "language": "python",
   "name": "python3"
  },
  "language_info": {
   "codemirror_mode": {
    "name": "ipython",
    "version": 3
   },
   "file_extension": ".py",
   "mimetype": "text/x-python",
   "name": "python",
   "nbconvert_exporter": "python",
   "pygments_lexer": "ipython3",
   "version": "3.6.5"
  }
 },
 "nbformat": 4,
 "nbformat_minor": 2
}
